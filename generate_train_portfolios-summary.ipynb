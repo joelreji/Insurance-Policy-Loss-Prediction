{
 "cells": [
  {
   "cell_type": "code",
   "execution_count": 43,
   "metadata": {},
   "outputs": [],
   "source": [
    "import pandas as pd\n",
    "import numpy as np\n",
    "import os"
   ]
  },
  {
   "cell_type": "markdown",
   "metadata": {},
   "source": [
    "# Read in the trainnig data and examine"
   ]
  },
  {
   "cell_type": "code",
   "execution_count": 44,
   "metadata": {},
   "outputs": [
    {
     "data": {
      "text/html": [
       "<div>\n",
       "<style scoped>\n",
       "    .dataframe tbody tr th:only-of-type {\n",
       "        vertical-align: middle;\n",
       "    }\n",
       "\n",
       "    .dataframe tbody tr th {\n",
       "        vertical-align: top;\n",
       "    }\n",
       "\n",
       "    .dataframe thead th {\n",
       "        text-align: right;\n",
       "    }\n",
       "</style>\n",
       "<table border=\"1\" class=\"dataframe\">\n",
       "  <thead>\n",
       "    <tr style=\"text-align: right;\">\n",
       "      <th></th>\n",
       "      <th>Policy_Company</th>\n",
       "      <th>Policy_Billing_Code</th>\n",
       "      <th>Vehicle_Territory</th>\n",
       "      <th>Vehicle_Make_Year</th>\n",
       "      <th>Vehicle_Performance</th>\n",
       "      <th>Vehicle_Symbol</th>\n",
       "      <th>Vehicle_Number_Of_Drivers_Assigned</th>\n",
       "      <th>Vehicle_Usage</th>\n",
       "      <th>Vehicle_Miles_To_Work</th>\n",
       "      <th>Vehicle_Days_Per_Week_Driven</th>\n",
       "      <th>...</th>\n",
       "      <th>EEA_Policy_Tenure</th>\n",
       "      <th>EEA_Packaged_Policy_Indicator</th>\n",
       "      <th>EEA_Full_Coverage_Indicator</th>\n",
       "      <th>EEA_Prior_Bodily_Injury_Limit</th>\n",
       "      <th>Annual_Premium</th>\n",
       "      <th>Claim_Count</th>\n",
       "      <th>Loss_Amount</th>\n",
       "      <th>Frequency</th>\n",
       "      <th>Severity</th>\n",
       "      <th>Loss_Ratio</th>\n",
       "    </tr>\n",
       "  </thead>\n",
       "  <tbody>\n",
       "    <tr>\n",
       "      <th>0</th>\n",
       "      <td>Standard</td>\n",
       "      <td>Direct Billed to Insured</td>\n",
       "      <td>35</td>\n",
       "      <td>2004</td>\n",
       "      <td>Standard</td>\n",
       "      <td>11</td>\n",
       "      <td>1</td>\n",
       "      <td>Farm</td>\n",
       "      <td>-1</td>\n",
       "      <td>5</td>\n",
       "      <td>...</td>\n",
       "      <td>22.7</td>\n",
       "      <td>N</td>\n",
       "      <td>Y</td>\n",
       "      <td>100-400</td>\n",
       "      <td>320.12</td>\n",
       "      <td>0</td>\n",
       "      <td>0.0</td>\n",
       "      <td>0.0</td>\n",
       "      <td>0.0</td>\n",
       "      <td>0.0</td>\n",
       "    </tr>\n",
       "    <tr>\n",
       "      <th>1</th>\n",
       "      <td>Standard</td>\n",
       "      <td>Direct Billed to Insured</td>\n",
       "      <td>35</td>\n",
       "      <td>1980</td>\n",
       "      <td>Standard</td>\n",
       "      <td>11</td>\n",
       "      <td>1</td>\n",
       "      <td>Farm</td>\n",
       "      <td>-1</td>\n",
       "      <td>5</td>\n",
       "      <td>...</td>\n",
       "      <td>47.1</td>\n",
       "      <td>N</td>\n",
       "      <td>Y</td>\n",
       "      <td>100-200</td>\n",
       "      <td>259.70</td>\n",
       "      <td>0</td>\n",
       "      <td>0.0</td>\n",
       "      <td>0.0</td>\n",
       "      <td>0.0</td>\n",
       "      <td>0.0</td>\n",
       "    </tr>\n",
       "    <tr>\n",
       "      <th>2</th>\n",
       "      <td>Standard</td>\n",
       "      <td>Direct Billed to Insured</td>\n",
       "      <td>17</td>\n",
       "      <td>2005</td>\n",
       "      <td>Standard</td>\n",
       "      <td>10</td>\n",
       "      <td>1</td>\n",
       "      <td>Pleasure</td>\n",
       "      <td>-1</td>\n",
       "      <td>5</td>\n",
       "      <td>...</td>\n",
       "      <td>47.2</td>\n",
       "      <td>N</td>\n",
       "      <td>Y</td>\n",
       "      <td>100-400</td>\n",
       "      <td>613.74</td>\n",
       "      <td>0</td>\n",
       "      <td>0.0</td>\n",
       "      <td>0.0</td>\n",
       "      <td>0.0</td>\n",
       "      <td>0.0</td>\n",
       "    </tr>\n",
       "    <tr>\n",
       "      <th>3</th>\n",
       "      <td>Standard</td>\n",
       "      <td>Direct Billed to Insured</td>\n",
       "      <td>17</td>\n",
       "      <td>2005</td>\n",
       "      <td>Standard</td>\n",
       "      <td>12</td>\n",
       "      <td>1</td>\n",
       "      <td>Pleasure</td>\n",
       "      <td>-1</td>\n",
       "      <td>5</td>\n",
       "      <td>...</td>\n",
       "      <td>46.7</td>\n",
       "      <td>Y</td>\n",
       "      <td>Y</td>\n",
       "      <td>40-100</td>\n",
       "      <td>541.66</td>\n",
       "      <td>0</td>\n",
       "      <td>0.0</td>\n",
       "      <td>0.0</td>\n",
       "      <td>0.0</td>\n",
       "      <td>0.0</td>\n",
       "    </tr>\n",
       "    <tr>\n",
       "      <th>4</th>\n",
       "      <td>Standard</td>\n",
       "      <td>Direct Billed to Insured</td>\n",
       "      <td>17</td>\n",
       "      <td>2005</td>\n",
       "      <td>Standard</td>\n",
       "      <td>12</td>\n",
       "      <td>1</td>\n",
       "      <td>Pleasure</td>\n",
       "      <td>-1</td>\n",
       "      <td>5</td>\n",
       "      <td>...</td>\n",
       "      <td>47.2</td>\n",
       "      <td>Y</td>\n",
       "      <td>Y</td>\n",
       "      <td>40-100</td>\n",
       "      <td>541.66</td>\n",
       "      <td>0</td>\n",
       "      <td>0.0</td>\n",
       "      <td>0.0</td>\n",
       "      <td>0.0</td>\n",
       "      <td>0.0</td>\n",
       "    </tr>\n",
       "  </tbody>\n",
       "</table>\n",
       "<p>5 rows × 47 columns</p>\n",
       "</div>"
      ],
      "text/plain": [
       "  Policy_Company       Policy_Billing_Code  Vehicle_Territory  \\\n",
       "0      Standard   Direct Billed to Insured                 35   \n",
       "1      Standard   Direct Billed to Insured                 35   \n",
       "2      Standard   Direct Billed to Insured                 17   \n",
       "3      Standard   Direct Billed to Insured                 17   \n",
       "4      Standard   Direct Billed to Insured                 17   \n",
       "\n",
       "   Vehicle_Make_Year Vehicle_Performance  Vehicle_Symbol  \\\n",
       "0               2004            Standard              11   \n",
       "1               1980            Standard              11   \n",
       "2               2005            Standard              10   \n",
       "3               2005            Standard              12   \n",
       "4               2005            Standard              12   \n",
       "\n",
       "   Vehicle_Number_Of_Drivers_Assigned Vehicle_Usage  Vehicle_Miles_To_Work  \\\n",
       "0                                   1      Farm                         -1   \n",
       "1                                   1      Farm                         -1   \n",
       "2                                   1      Pleasure                     -1   \n",
       "3                                   1      Pleasure                     -1   \n",
       "4                                   1      Pleasure                     -1   \n",
       "\n",
       "   Vehicle_Days_Per_Week_Driven  ... EEA_Policy_Tenure  \\\n",
       "0                             5  ...              22.7   \n",
       "1                             5  ...              47.1   \n",
       "2                             5  ...              47.2   \n",
       "3                             5  ...              46.7   \n",
       "4                             5  ...              47.2   \n",
       "\n",
       "  EEA_Packaged_Policy_Indicator EEA_Full_Coverage_Indicator  \\\n",
       "0                             N                           Y   \n",
       "1                             N                           Y   \n",
       "2                             N                           Y   \n",
       "3                             Y                           Y   \n",
       "4                             Y                           Y   \n",
       "\n",
       "   EEA_Prior_Bodily_Injury_Limit  Annual_Premium Claim_Count  Loss_Amount  \\\n",
       "0                        100-400          320.12           0          0.0   \n",
       "1                        100-200          259.70           0          0.0   \n",
       "2                        100-400          613.74           0          0.0   \n",
       "3                        40-100           541.66           0          0.0   \n",
       "4                        40-100           541.66           0          0.0   \n",
       "\n",
       "  Frequency  Severity Loss_Ratio  \n",
       "0       0.0       0.0        0.0  \n",
       "1       0.0       0.0        0.0  \n",
       "2       0.0       0.0        0.0  \n",
       "3       0.0       0.0        0.0  \n",
       "4       0.0       0.0        0.0  \n",
       "\n",
       "[5 rows x 47 columns]"
      ]
     },
     "execution_count": 44,
     "metadata": {},
     "output_type": "execute_result"
    }
   ],
   "source": [
    "# Load the train dataset\n",
    "df = pd.read_csv(\"2020_Fall_training_dataset/training_dataset_cleaned.csv\")\n",
    "\n",
    "df.head()"
   ]
  },
  {
   "cell_type": "markdown",
   "metadata": {},
   "source": [
    "# Function to create 15 sample data sets with varying total policies and losses"
   ]
  },
  {
   "cell_type": "code",
   "execution_count": 45,
   "metadata": {},
   "outputs": [],
   "source": [
    "def create_sample_set(total_policies, df):\n",
    "    loss_pop = df.loc[df['Claim_Count'] > 0]\n",
    "    good_pop = df.loc[df['Claim_Count'] == 0]\n",
    "    target_loss_ratio = [1,2,3,4,5,6,7,8,9,10,20]\n",
    "    root=\"2020_Fall_training_dataset/training_portfolios\"\n",
    "    \n",
    "    for x in range(30):\n",
    "        for y in target_loss_ratio:           \n",
    "            loss_sample_n = int(total_policies * (y/100))\n",
    "            good_sample_n = int(total_policies - loss_sample_n)\n",
    "            df1 = loss_pop.sample(loss_sample_n)\n",
    "            df2 = good_pop.sample(good_sample_n)\n",
    "            df_full = pd.concat([df1 , df2])\n",
    "            df_full.to_csv(root + '/train_portfolio_'+ str(int(total_policies/1000)) + \"_\" + str(x) + \"_\" + str(y) +\".csv\")"
   ]
  },
  {
   "cell_type": "code",
   "execution_count": 46,
   "metadata": {},
   "outputs": [],
   "source": [
    "# Create a directory to hold sampled portfolios\n",
    "def create_training_files_directory():\n",
    "    directory = \"training_portfolios\"\n",
    "    parent_dir = \"2020_Fall_training_dataset\"\n",
    "    path = os.path.join(parent_dir, directory)\n",
    "    if (not (os.path.isdir(path))):\n",
    "        os.mkdir(path)\n",
    "        print(\"Directory '% s' created\" % directory)\n",
    "    else:\n",
    "        print(\"Directory '% s' exists\" % directory)\n",
    "         \n",
    "        \n",
    "    \n",
    "   "
   ]
  },
  {
   "cell_type": "code",
   "execution_count": 47,
   "metadata": {},
   "outputs": [
    {
     "name": "stdout",
     "output_type": "stream",
     "text": [
      "Directory 'training_portfolios' exists\n"
     ]
    }
   ],
   "source": [
    "# Create directory\n",
    "create_training_files_directory()"
   ]
  },
  {
   "cell_type": "markdown",
   "metadata": {},
   "source": [
    "# Use function to create training subsets of different sizes (1000, 3000, 5000)"
   ]
  },
  {
   "cell_type": "code",
   "execution_count": 48,
   "metadata": {},
   "outputs": [],
   "source": [
    "create_sample_set(1000, df)"
   ]
  },
  {
   "cell_type": "code",
   "execution_count": 49,
   "metadata": {},
   "outputs": [],
   "source": [
    "create_sample_set(3000, df)"
   ]
  },
  {
   "cell_type": "code",
   "execution_count": 50,
   "metadata": {},
   "outputs": [],
   "source": [
    "create_sample_set(5000, df)"
   ]
  },
  {
   "cell_type": "markdown",
   "metadata": {},
   "source": [
    "# Verify that data is created accurately"
   ]
  },
  {
   "cell_type": "code",
   "execution_count": 51,
   "metadata": {},
   "outputs": [
    {
     "name": "stdout",
     "output_type": "stream",
     "text": [
      "Total number of rows:  1000\n",
      "Total policies without claims:  10\n",
      "Policies with loss:  1.0 %\n"
     ]
    }
   ],
   "source": [
    "# Data set should have 1000 items with 1% loss\n",
    "df1 = pd.read_csv(\"2020_Fall_training_dataset/training_portfolios/train_portfolio_1_0_1.csv\")\n",
    "print(\"Total number of rows: \" , df1.shape[0])\n",
    "print(\"Total policies without claims: \" , df1[df1['Claim_Count'] > 0].shape[0])\n",
    "print(\"Policies with loss: \", (df1[df1['Claim_Count'] > 0].shape[0]/df1.shape[0])*100, \"%\")"
   ]
  },
  {
   "cell_type": "code",
   "execution_count": 52,
   "metadata": {},
   "outputs": [
    {
     "name": "stdout",
     "output_type": "stream",
     "text": [
      "Total number of rows:  1000\n",
      "Total policies without claims:  80\n",
      "Policies with loss:  8.0 %\n"
     ]
    }
   ],
   "source": [
    "# Data set should have 1000 items with 8% loss\n",
    "df1 = pd.read_csv(\"2020_Fall_training_dataset/training_portfolios/train_portfolio_1_14_8.csv\")\n",
    "print(\"Total number of rows: \" , df1.shape[0])\n",
    "print(\"Total policies without claims: \" , df1[df1['Claim_Count'] > 0].shape[0])\n",
    "print(\"Policies with loss: \", (df1[df1['Claim_Count'] > 0].shape[0]/df1.shape[0])*100, \"%\")"
   ]
  },
  {
   "cell_type": "code",
   "execution_count": 53,
   "metadata": {},
   "outputs": [
    {
     "name": "stdout",
     "output_type": "stream",
     "text": [
      "Total number of rows:  3000\n",
      "Total policies without claims:  300\n",
      "Policies with loss:  10.0 %\n"
     ]
    }
   ],
   "source": [
    "# Data set should have 3000 items with 10% loss\n",
    "df1 = pd.read_csv(\"2020_Fall_training_dataset/training_portfolios/train_portfolio_3_5_10.csv\")\n",
    "print(\"Total number of rows: \" , df1.shape[0])\n",
    "print(\"Total policies without claims: \" , df1[df1['Claim_Count'] > 0].shape[0])\n",
    "print(\"Policies with loss: \", (df1[df1['Claim_Count'] > 0].shape[0]/df1.shape[0])*100, \"%\")"
   ]
  },
  {
   "cell_type": "code",
   "execution_count": 54,
   "metadata": {},
   "outputs": [
    {
     "name": "stdout",
     "output_type": "stream",
     "text": [
      "Total number of rows:  3000\n",
      "Total policies without claims:  150\n",
      "Policies with loss:  5.0 %\n"
     ]
    }
   ],
   "source": [
    "# Data set should have 3000 items with 5% loss\n",
    "df1 = pd.read_csv(\"2020_Fall_training_dataset/training_portfolios/train_portfolio_3_10_5.csv\")\n",
    "print(\"Total number of rows: \" , df1.shape[0])\n",
    "print(\"Total policies without claims: \" , df1[df1['Claim_Count'] > 0].shape[0])\n",
    "print(\"Policies with loss: \", (df1[df1['Claim_Count'] > 0].shape[0]/df1.shape[0])*100, \"%\")"
   ]
  },
  {
   "cell_type": "code",
   "execution_count": 55,
   "metadata": {},
   "outputs": [
    {
     "name": "stdout",
     "output_type": "stream",
     "text": [
      "Total number of rows:  5000\n",
      "Total policies without claims:  1000\n",
      "Policies with loss:  20.0 %\n"
     ]
    }
   ],
   "source": [
    "# Data set should have 5000 items with 20% loss\n",
    "df1 = pd.read_csv(\"2020_Fall_training_dataset/training_portfolios/train_portfolio_5_6_20.csv\")\n",
    "print(\"Total number of rows: \" , df1.shape[0])\n",
    "print(\"Total policies without claims: \" , df1[df1['Claim_Count'] > 0].shape[0])\n",
    "print(\"Policies with loss: \", (df1[df1['Claim_Count'] > 0].shape[0]/df1.shape[0])*100, \"%\")"
   ]
  },
  {
   "cell_type": "code",
   "execution_count": 56,
   "metadata": {},
   "outputs": [
    {
     "name": "stdout",
     "output_type": "stream",
     "text": [
      "Total number of rows:  5000\n",
      "Total policies without claims:  200\n",
      "Policies with loss:  4.0 %\n"
     ]
    }
   ],
   "source": [
    "# Data set should have 5000 items with 4% loss\n",
    "df1 = pd.read_csv(\"2020_Fall_training_dataset/training_portfolios/train_portfolio_5_6_4.csv\")\n",
    "print(\"Total number of rows: \" , df1.shape[0])\n",
    "print(\"Total policies without claims: \" , df1[df1['Claim_Count'] > 0].shape[0])\n",
    "print(\"Policies with loss: \", (df1[df1['Claim_Count'] > 0].shape[0]/df1.shape[0])*100, \"%\")"
   ]
  },
  {
   "cell_type": "code",
   "execution_count": 57,
   "metadata": {},
   "outputs": [
    {
     "name": "stdout",
     "output_type": "stream",
     "text": [
      "Expected count: 495 Actual:  990\n"
     ]
    }
   ],
   "source": [
    "# Find out how many files were created total \n",
    "path, dirs, files = next(os.walk(\"2020_Fall_training_dataset/training_portfolios/\"))\n",
    "file_count = len(files)\n",
    "print(\"Expected count: 495 Actual: \", file_count)"
   ]
  },
  {
   "cell_type": "markdown",
   "metadata": {},
   "source": [
    "# Function to read train portfolios and generate summary"
   ]
  },
  {
   "cell_type": "code",
   "execution_count": 58,
   "metadata": {},
   "outputs": [],
   "source": [
    "# function to accept filename as an input, extract the data from csv file, compute summary attributes and return a dictionary\n",
    "def read_portfolio(filename, index):\n",
    "    df1 = pd.read_csv(filename)\n",
    "    row_count = df1.shape[0] \n",
    "    d={}\n",
    "    d['ID']= index\n",
    "    d['AP_mean'] = df1['Annual_Premium'].mean()\n",
    "    d['AP_std']= df1['Annual_Premium'].std()\n",
    "    d['DMA_mean'] = df1['Driver_Maximum_Age'].mean()\n",
    "    d['DMA_std']= df1['Driver_Maximum_Age'].std()\n",
    "    d['DSM_RATIO']= (df1['Driver_Total_Single'].sum() / df1['Driver_Total_Married'].sum())\n",
    "    d['VDP_mean'] = df1['Vehicle_Driver_Points'].mean()\n",
    "    d['VDP_std']= df1['Vehicle_Driver_Points'].std()\n",
    "    d['VMY_mean'] = df1['Vehicle_Make_Year'].mean()\n",
    "    d['VMY_std']= df1['Vehicle_Make_Year'].std()\n",
    "    d['VAY_mean'] = df1['Vehicle_Age_In_Years'].mean()\n",
    "    d['VAY_std']= df1['Vehicle_Age_In_Years'].std()\n",
    "    d['VS_mean'] = df1['Vehicle_Symbol'].mean()\n",
    "    d['VS_std']= df1['Vehicle_Symbol'].std()\n",
    "    d['VPDL_PL_Ratio'] = (df1['Vehicle_Physical_Damage_Limit'].sum() / df1['Vehicle_Med_Pay_Limit'].sum())\n",
    "    d['VCCD_mean'] = df1['Vehicle_Collision_Coverage_Deductible'].mean()\n",
    "    d['VCCD_std'] = df1['Vehicle_Collision_Coverage_Deductible'].std()\n",
    "    d['VDW_Driven_mean'] = df1['Vehicle_Days_Per_Week_Driven'].mean()\n",
    "    d['VDW_Driven_std'] = df1['Vehicle_Days_Per_Week_Driven'].std()\n",
    "    d['DT_S_T_Ratio'] = (df1['Driver_Total_Senior_Ages_65_69'].sum() / df1['Driver_Total_Teenager_Age_15_19'].sum())\n",
    "    d['DT_US_M_Ratio'] = (df1['Driver_Total_Upper_Senior_Ages_70_plus'].sum() / df1['Driver_Total_Middle_Adult_Ages_40_49'].sum())\n",
    "    d['VATD_Active'] = (df1[df1['Vehicle_Anti_Theft_Device']==\"Active Disabling\"].shape[0]) / row_count\n",
    "    d['VATD_Alarm'] = (df1[df1['Vehicle_Anti_Theft_Device']==\"Alarm Only\"].shape[0]) / row_count\n",
    "    d['VATD_NA'] = (df1[df1['Vehicle_Anti_Theft_Device']==\"Not Applicable\"].shape[0])/row_count\n",
    "    d['VATD_Passive'] = (df1[df1['Vehicle_Anti_Theft_Device']==\"Passive Disabling-Vehicle Recovery\"].shape[0]) / row_count\n",
    "    d['ln_LR'] = np.log((df1['Loss_Amount'].sum() / df1['Annual_Premium'].sum()))\n",
    "\n",
    "    return d"
   ]
  },
  {
   "cell_type": "code",
   "execution_count": 59,
   "metadata": {},
   "outputs": [],
   "source": [
    "def create_filename_index(filename):\n",
    "    prefix = 'train_'\n",
    "    suffix = '.csv'\n",
    "    if filename.startswith(prefix):\n",
    "        filename = filename[len(prefix):]\n",
    "    if filename.endswith(suffix):\n",
    "        filename = filename.replace('.csv','')\n",
    "    return filename "
   ]
  },
  {
   "cell_type": "markdown",
   "metadata": {},
   "source": [
    "# Read train portfolios"
   ]
  },
  {
   "cell_type": "code",
   "execution_count": 60,
   "metadata": {},
   "outputs": [],
   "source": [
    "# Loop for all test portfolios given, call the  function to compute summary attributes \n",
    "directory = \"./2020_Fall_training_dataset/training_portfolios\"\n",
    "all_data = []\n",
    "for filename in os.listdir(directory):\n",
    "    if filename.startswith(\"train_portfolio_\") and filename.endswith(\".csv\"):\n",
    "        file_index = create_filename_index(filename)\n",
    "        all_data.append(read_portfolio(os.path.join(directory, filename),file_index))\n",
    "    else:\n",
    "        continue"
   ]
  },
  {
   "cell_type": "code",
   "execution_count": 61,
   "metadata": {},
   "outputs": [
    {
     "data": {
      "text/html": [
       "<div>\n",
       "<style scoped>\n",
       "    .dataframe tbody tr th:only-of-type {\n",
       "        vertical-align: middle;\n",
       "    }\n",
       "\n",
       "    .dataframe tbody tr th {\n",
       "        vertical-align: top;\n",
       "    }\n",
       "\n",
       "    .dataframe thead th {\n",
       "        text-align: right;\n",
       "    }\n",
       "</style>\n",
       "<table border=\"1\" class=\"dataframe\">\n",
       "  <thead>\n",
       "    <tr style=\"text-align: right;\">\n",
       "      <th></th>\n",
       "      <th>AP_mean</th>\n",
       "      <th>AP_std</th>\n",
       "      <th>DMA_mean</th>\n",
       "      <th>DMA_std</th>\n",
       "      <th>DSM_RATIO</th>\n",
       "      <th>VDP_mean</th>\n",
       "      <th>VDP_std</th>\n",
       "      <th>VMY_mean</th>\n",
       "      <th>VMY_std</th>\n",
       "      <th>VAY_mean</th>\n",
       "      <th>...</th>\n",
       "      <th>VCCD_std</th>\n",
       "      <th>VDW_Driven_mean</th>\n",
       "      <th>VDW_Driven_std</th>\n",
       "      <th>DT_S_T_Ratio</th>\n",
       "      <th>DT_US_M_Ratio</th>\n",
       "      <th>VATD_Active</th>\n",
       "      <th>VATD_Alarm</th>\n",
       "      <th>VATD_NA</th>\n",
       "      <th>VATD_Passive</th>\n",
       "      <th>ln_LR</th>\n",
       "    </tr>\n",
       "    <tr>\n",
       "      <th>ID</th>\n",
       "      <th></th>\n",
       "      <th></th>\n",
       "      <th></th>\n",
       "      <th></th>\n",
       "      <th></th>\n",
       "      <th></th>\n",
       "      <th></th>\n",
       "      <th></th>\n",
       "      <th></th>\n",
       "      <th></th>\n",
       "      <th></th>\n",
       "      <th></th>\n",
       "      <th></th>\n",
       "      <th></th>\n",
       "      <th></th>\n",
       "      <th></th>\n",
       "      <th></th>\n",
       "      <th></th>\n",
       "      <th></th>\n",
       "      <th></th>\n",
       "      <th></th>\n",
       "    </tr>\n",
       "  </thead>\n",
       "  <tbody>\n",
       "    <tr>\n",
       "      <th>portfolio_1_0_1</th>\n",
       "      <td>334.24263</td>\n",
       "      <td>196.671600</td>\n",
       "      <td>48.209</td>\n",
       "      <td>15.790081</td>\n",
       "      <td>0.328467</td>\n",
       "      <td>0.124</td>\n",
       "      <td>0.388297</td>\n",
       "      <td>1997.084</td>\n",
       "      <td>6.828878</td>\n",
       "      <td>7.002</td>\n",
       "      <td>...</td>\n",
       "      <td>276.718285</td>\n",
       "      <td>4.994</td>\n",
       "      <td>0.189737</td>\n",
       "      <td>2.360000</td>\n",
       "      <td>0.413669</td>\n",
       "      <td>0.022</td>\n",
       "      <td>0.075</td>\n",
       "      <td>0.582</td>\n",
       "      <td>0.321</td>\n",
       "      <td>-1.553113</td>\n",
       "    </tr>\n",
       "    <tr>\n",
       "      <th>portfolio_1_0_10</th>\n",
       "      <td>340.88420</td>\n",
       "      <td>208.378051</td>\n",
       "      <td>46.505</td>\n",
       "      <td>15.760405</td>\n",
       "      <td>0.368576</td>\n",
       "      <td>0.118</td>\n",
       "      <td>0.395262</td>\n",
       "      <td>1997.018</td>\n",
       "      <td>7.338087</td>\n",
       "      <td>6.975</td>\n",
       "      <td>...</td>\n",
       "      <td>271.175370</td>\n",
       "      <td>5.000</td>\n",
       "      <td>0.000000</td>\n",
       "      <td>1.288889</td>\n",
       "      <td>0.366935</td>\n",
       "      <td>0.036</td>\n",
       "      <td>0.089</td>\n",
       "      <td>0.552</td>\n",
       "      <td>0.323</td>\n",
       "      <td>0.194157</td>\n",
       "    </tr>\n",
       "    <tr>\n",
       "      <th>portfolio_1_0_2</th>\n",
       "      <td>335.96416</td>\n",
       "      <td>224.387681</td>\n",
       "      <td>48.340</td>\n",
       "      <td>15.552372</td>\n",
       "      <td>0.356936</td>\n",
       "      <td>0.114</td>\n",
       "      <td>0.388787</td>\n",
       "      <td>1996.615</td>\n",
       "      <td>7.152617</td>\n",
       "      <td>7.165</td>\n",
       "      <td>...</td>\n",
       "      <td>271.041205</td>\n",
       "      <td>5.000</td>\n",
       "      <td>0.000000</td>\n",
       "      <td>1.725000</td>\n",
       "      <td>0.384615</td>\n",
       "      <td>0.031</td>\n",
       "      <td>0.072</td>\n",
       "      <td>0.584</td>\n",
       "      <td>0.313</td>\n",
       "      <td>-0.541889</td>\n",
       "    </tr>\n",
       "    <tr>\n",
       "      <th>portfolio_1_0_20</th>\n",
       "      <td>350.07682</td>\n",
       "      <td>213.521732</td>\n",
       "      <td>46.177</td>\n",
       "      <td>15.154053</td>\n",
       "      <td>0.412294</td>\n",
       "      <td>0.127</td>\n",
       "      <td>0.396268</td>\n",
       "      <td>1997.102</td>\n",
       "      <td>7.015755</td>\n",
       "      <td>6.993</td>\n",
       "      <td>...</td>\n",
       "      <td>285.716367</td>\n",
       "      <td>5.000</td>\n",
       "      <td>0.000000</td>\n",
       "      <td>1.019231</td>\n",
       "      <td>0.298611</td>\n",
       "      <td>0.023</td>\n",
       "      <td>0.101</td>\n",
       "      <td>0.568</td>\n",
       "      <td>0.308</td>\n",
       "      <td>1.147185</td>\n",
       "    </tr>\n",
       "    <tr>\n",
       "      <th>portfolio_1_0_3</th>\n",
       "      <td>326.59852</td>\n",
       "      <td>206.457561</td>\n",
       "      <td>47.565</td>\n",
       "      <td>15.775381</td>\n",
       "      <td>0.357771</td>\n",
       "      <td>0.127</td>\n",
       "      <td>0.420771</td>\n",
       "      <td>1996.406</td>\n",
       "      <td>7.786514</td>\n",
       "      <td>7.120</td>\n",
       "      <td>...</td>\n",
       "      <td>273.175341</td>\n",
       "      <td>5.000</td>\n",
       "      <td>0.000000</td>\n",
       "      <td>1.309524</td>\n",
       "      <td>0.407407</td>\n",
       "      <td>0.028</td>\n",
       "      <td>0.074</td>\n",
       "      <td>0.588</td>\n",
       "      <td>0.310</td>\n",
       "      <td>-0.809830</td>\n",
       "    </tr>\n",
       "  </tbody>\n",
       "</table>\n",
       "<p>5 rows × 25 columns</p>\n",
       "</div>"
      ],
      "text/plain": [
       "                    AP_mean      AP_std  DMA_mean    DMA_std  DSM_RATIO  \\\n",
       "ID                                                                        \n",
       "portfolio_1_0_1   334.24263  196.671600    48.209  15.790081   0.328467   \n",
       "portfolio_1_0_10  340.88420  208.378051    46.505  15.760405   0.368576   \n",
       "portfolio_1_0_2   335.96416  224.387681    48.340  15.552372   0.356936   \n",
       "portfolio_1_0_20  350.07682  213.521732    46.177  15.154053   0.412294   \n",
       "portfolio_1_0_3   326.59852  206.457561    47.565  15.775381   0.357771   \n",
       "\n",
       "                  VDP_mean   VDP_std  VMY_mean   VMY_std  VAY_mean  ...  \\\n",
       "ID                                                                  ...   \n",
       "portfolio_1_0_1      0.124  0.388297  1997.084  6.828878     7.002  ...   \n",
       "portfolio_1_0_10     0.118  0.395262  1997.018  7.338087     6.975  ...   \n",
       "portfolio_1_0_2      0.114  0.388787  1996.615  7.152617     7.165  ...   \n",
       "portfolio_1_0_20     0.127  0.396268  1997.102  7.015755     6.993  ...   \n",
       "portfolio_1_0_3      0.127  0.420771  1996.406  7.786514     7.120  ...   \n",
       "\n",
       "                    VCCD_std  VDW_Driven_mean  VDW_Driven_std  DT_S_T_Ratio  \\\n",
       "ID                                                                            \n",
       "portfolio_1_0_1   276.718285            4.994        0.189737      2.360000   \n",
       "portfolio_1_0_10  271.175370            5.000        0.000000      1.288889   \n",
       "portfolio_1_0_2   271.041205            5.000        0.000000      1.725000   \n",
       "portfolio_1_0_20  285.716367            5.000        0.000000      1.019231   \n",
       "portfolio_1_0_3   273.175341            5.000        0.000000      1.309524   \n",
       "\n",
       "                  DT_US_M_Ratio  VATD_Active  VATD_Alarm  VATD_NA  \\\n",
       "ID                                                                  \n",
       "portfolio_1_0_1        0.413669        0.022       0.075    0.582   \n",
       "portfolio_1_0_10       0.366935        0.036       0.089    0.552   \n",
       "portfolio_1_0_2        0.384615        0.031       0.072    0.584   \n",
       "portfolio_1_0_20       0.298611        0.023       0.101    0.568   \n",
       "portfolio_1_0_3        0.407407        0.028       0.074    0.588   \n",
       "\n",
       "                  VATD_Passive     ln_LR  \n",
       "ID                                        \n",
       "portfolio_1_0_1          0.321 -1.553113  \n",
       "portfolio_1_0_10         0.323  0.194157  \n",
       "portfolio_1_0_2          0.313 -0.541889  \n",
       "portfolio_1_0_20         0.308  1.147185  \n",
       "portfolio_1_0_3          0.310 -0.809830  \n",
       "\n",
       "[5 rows x 25 columns]"
      ]
     },
     "execution_count": 61,
     "metadata": {},
     "output_type": "execute_result"
    }
   ],
   "source": [
    "# Add the details to a dataframe\n",
    "df2 = pd.DataFrame(all_data)\n",
    "df2 = df2.set_index('ID')\n",
    "df2.head(5)"
   ]
  },
  {
   "cell_type": "code",
   "execution_count": 62,
   "metadata": {},
   "outputs": [
    {
     "name": "stdout",
     "output_type": "stream",
     "text": [
      "<class 'pandas.core.frame.DataFrame'>\n",
      "Index: 990 entries, portfolio_1_0_1 to portfolio_5_9_9\n",
      "Data columns (total 25 columns):\n",
      " #   Column           Non-Null Count  Dtype  \n",
      "---  ------           --------------  -----  \n",
      " 0   AP_mean          990 non-null    float64\n",
      " 1   AP_std           990 non-null    float64\n",
      " 2   DMA_mean         990 non-null    float64\n",
      " 3   DMA_std          990 non-null    float64\n",
      " 4   DSM_RATIO        990 non-null    float64\n",
      " 5   VDP_mean         990 non-null    float64\n",
      " 6   VDP_std          990 non-null    float64\n",
      " 7   VMY_mean         990 non-null    float64\n",
      " 8   VMY_std          990 non-null    float64\n",
      " 9   VAY_mean         990 non-null    float64\n",
      " 10  VAY_std          990 non-null    float64\n",
      " 11  VS_mean          990 non-null    float64\n",
      " 12  VS_std           990 non-null    float64\n",
      " 13  VPDL_PL_Ratio    990 non-null    float64\n",
      " 14  VCCD_mean        990 non-null    float64\n",
      " 15  VCCD_std         990 non-null    float64\n",
      " 16  VDW_Driven_mean  990 non-null    float64\n",
      " 17  VDW_Driven_std   990 non-null    float64\n",
      " 18  DT_S_T_Ratio     990 non-null    float64\n",
      " 19  DT_US_M_Ratio    990 non-null    float64\n",
      " 20  VATD_Active      990 non-null    float64\n",
      " 21  VATD_Alarm       990 non-null    float64\n",
      " 22  VATD_NA          990 non-null    float64\n",
      " 23  VATD_Passive     990 non-null    float64\n",
      " 24  ln_LR            990 non-null    float64\n",
      "dtypes: float64(25)\n",
      "memory usage: 201.1+ KB\n"
     ]
    }
   ],
   "source": [
    "df2.info()"
   ]
  },
  {
   "cell_type": "markdown",
   "metadata": {},
   "source": [
    "# Save to a file"
   ]
  },
  {
   "cell_type": "code",
   "execution_count": 63,
   "metadata": {},
   "outputs": [
    {
     "name": "stdout",
     "output_type": "stream",
     "text": [
      "Done!\n"
     ]
    }
   ],
   "source": [
    "# save to csv file\n",
    "df2.to_csv(\"summary_train_portfolios.csv\", index=True)\n",
    "print(\"Done!\")"
   ]
  }
 ],
 "metadata": {
  "kernelspec": {
   "display_name": "Python 3",
   "language": "python",
   "name": "python3"
  },
  "language_info": {
   "codemirror_mode": {
    "name": "ipython",
    "version": 3
   },
   "file_extension": ".py",
   "mimetype": "text/x-python",
   "name": "python",
   "nbconvert_exporter": "python",
   "pygments_lexer": "ipython3",
   "version": "3.8.3"
  }
 },
 "nbformat": 4,
 "nbformat_minor": 4
}
