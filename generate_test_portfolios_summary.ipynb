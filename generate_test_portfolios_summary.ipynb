{
 "cells": [
  {
   "cell_type": "code",
   "execution_count": 27,
   "metadata": {},
   "outputs": [],
   "source": [
    "import pandas as pd\n",
    "import numpy as np\n",
    "import os"
   ]
  },
  {
   "cell_type": "markdown",
   "metadata": {},
   "source": [
    "# Function to read test portfolios and generate summary"
   ]
  },
  {
   "cell_type": "code",
   "execution_count": 28,
   "metadata": {},
   "outputs": [],
   "source": [
    "# function to accept number as an input, extract the data from csv file with that number, compute summary attributes and return a dictionary\n",
    "def read_portfolio(filename, index):\n",
    "    df1 = pd.read_csv(filename)\n",
    "    row_count = df1.shape[0] \n",
    "    d={}\n",
    "    d['ID']= index\n",
    "    d['AP_mean'] = df1['Annual_Premium'].mean()\n",
    "    d['AP_std']= df1['Annual_Premium'].std()\n",
    "    d['DMA_mean'] = df1['Driver_Maximum_Age'].mean()\n",
    "    d['DMA_std']= df1['Driver_Maximum_Age'].std()\n",
    "    d['DSM_Ratio']= (df1['Driver_Total_Single'].sum() / df1['Driver_Total_Married'].sum())\n",
    "    d['VDP_mean'] = df1['Vehicle_Driver_Points'].mean()\n",
    "    d['VDP_std']= df1['Vehicle_Driver_Points'].std()\n",
    "    d['VMY_mean'] = df1['Vehicle_Make_Year'].mean()\n",
    "    d['VMY_std']= df1['Vehicle_Make_Year'].std()\n",
    "    d['VAY_mean'] = df1['Vehicle_Age_In_Years'].mean()\n",
    "    d['VAY_std']= df1['Vehicle_Age_In_Years'].std()\n",
    "    d['VS_mean'] = df1['Vehicle_Symbol'].mean()\n",
    "    d['VS_std']= df1['Vehicle_Symbol'].std()\n",
    "    d['VPDL_PL_Ratio'] = (df1['Vehicle_Physical_Damage_Limit'].sum() / df1['Vehicle_Med_Pay_Limit'].sum())\n",
    "    d['VCCD_mean'] = df1['Vehicle_Collision_Coverage_Deductible'].mean()\n",
    "    d['VCCD_std'] = df1['Vehicle_Collision_Coverage_Deductible'].std()\n",
    "    d['VDW_Driven_mean'] = df1['Vehicle_Days_Per_Week_Driven'].mean()\n",
    "    d['VDW_Driven_std'] = df1['Vehicle_Days_Per_Week_Driven'].std()\n",
    "    d['DT_S_T_Ratio'] = (df1['Driver_Total_Senior_Ages_65_69'].sum() / df1['Driver_Total_Teenager_Age_15_19'].sum())\n",
    "    d['DT_US_M_Ratio'] = (df1['Driver_Total_Upper_Senior_Ages_70_plus'].sum() / df1['Driver_Total_Middle_Adult_Ages_40_49'].sum())\n",
    "    d['VATD_Active'] = (df1[df1['Vehicle_Anti_Theft_Device']==\"Active Disabling\"].shape[0]) / row_count\n",
    "    d['VATD_Alarm'] = (df1[df1['Vehicle_Anti_Theft_Device']==\"Alarm Only\"].shape[0]) / row_count\n",
    "    d['VATD_NA'] = (df1[df1['Vehicle_Anti_Theft_Device']==\"Not Applicable\"].shape[0])/row_count\n",
    "    d['VATD_Passive'] = (df1[df1['Vehicle_Anti_Theft_Device']==\"Passive Disabling-Vehicle Recovery\"].shape[0]) / row_count\n",
    "\n",
    "    return d"
   ]
  },
  {
   "cell_type": "code",
   "execution_count": 29,
   "metadata": {},
   "outputs": [],
   "source": [
    "def create_filename_index(filename):\n",
    "    prefix = 'test_'\n",
    "    suffix = '.csv'\n",
    "    if filename.startswith(prefix):\n",
    "        filename = filename[len(prefix):]\n",
    "    if filename.endswith(suffix):\n",
    "        filename = filename.replace('.csv','')\n",
    "    return filename "
   ]
  },
  {
   "cell_type": "markdown",
   "metadata": {},
   "source": [
    "# Read all testportfolios"
   ]
  },
  {
   "cell_type": "code",
   "execution_count": 30,
   "metadata": {},
   "outputs": [],
   "source": [
    "# Loop for all test portfolios given, call the  function to compute summary attributes \n",
    "directory = \"./2020_Fall_testing_portfolios/testing_portfolios\"\n",
    "all_data = []\n",
    "for filename in os.listdir(directory):\n",
    "    if filename.startswith(\"test_portfolio_\") and filename.endswith(\".csv\"):\n",
    "        file_index = create_filename_index(filename)\n",
    "        all_data.append(read_portfolio(os.path.join(directory, filename), file_index))\n",
    "    else:\n",
    "        continue"
   ]
  },
  {
   "cell_type": "code",
   "execution_count": 38,
   "metadata": {},
   "outputs": [],
   "source": [
    "# Add the details to a dataframe\n",
    "df = pd.DataFrame(all_data)\n",
    "df = df.set_index('ID')\n"
   ]
  },
  {
   "cell_type": "code",
   "execution_count": 32,
   "metadata": {},
   "outputs": [
    {
     "name": "stdout",
     "output_type": "stream",
     "text": [
      "<class 'pandas.core.frame.DataFrame'>\n",
      "Index: 330 entries, portfolio_1 to portfolio_9\n",
      "Data columns (total 24 columns):\n",
      " #   Column           Non-Null Count  Dtype  \n",
      "---  ------           --------------  -----  \n",
      " 0   AP_mean          330 non-null    float64\n",
      " 1   AP_std           330 non-null    float64\n",
      " 2   DMA_mean         330 non-null    float64\n",
      " 3   DMA_std          330 non-null    float64\n",
      " 4   DSM_Ratio        330 non-null    float64\n",
      " 5   VDP_mean         330 non-null    float64\n",
      " 6   VDP_std          330 non-null    float64\n",
      " 7   VMY_mean         330 non-null    float64\n",
      " 8   VMY_std          330 non-null    float64\n",
      " 9   VAY_mean         330 non-null    float64\n",
      " 10  VAY_std          330 non-null    float64\n",
      " 11  VS_mean          330 non-null    float64\n",
      " 12  VS_std           330 non-null    float64\n",
      " 13  VPDL_PL_Ratio    330 non-null    float64\n",
      " 14  VCCD_mean        330 non-null    float64\n",
      " 15  VCCD_std         330 non-null    float64\n",
      " 16  VDW_Driven_mean  330 non-null    float64\n",
      " 17  VDW_Driven_std   330 non-null    float64\n",
      " 18  DT_S_T_Ratio     330 non-null    float64\n",
      " 19  DT_US_M_Ratio    330 non-null    float64\n",
      " 20  VATD_Active      330 non-null    float64\n",
      " 21  VATD_Alarm       330 non-null    float64\n",
      " 22  VATD_NA          330 non-null    float64\n",
      " 23  VATD_Passive     330 non-null    float64\n",
      "dtypes: float64(24)\n",
      "memory usage: 64.5+ KB\n"
     ]
    }
   ],
   "source": [
    "df.info()"
   ]
  },
  {
   "cell_type": "markdown",
   "metadata": {},
   "source": [
    "# Save to a file"
   ]
  },
  {
   "cell_type": "code",
   "execution_count": 33,
   "metadata": {},
   "outputs": [
    {
     "name": "stdout",
     "output_type": "stream",
     "text": [
      "Done!\n"
     ]
    }
   ],
   "source": [
    "# save to csv file\n",
    "df.to_csv(\"summary_test_portfolios.csv\",index=True)\n",
    "print(\"Done!\")"
   ]
  }
 ],
 "metadata": {
  "kernelspec": {
   "display_name": "Python 3",
   "language": "python",
   "name": "python3"
  },
  "language_info": {
   "codemirror_mode": {
    "name": "ipython",
    "version": 3
   },
   "file_extension": ".py",
   "mimetype": "text/x-python",
   "name": "python",
   "nbconvert_exporter": "python",
   "pygments_lexer": "ipython3",
   "version": "3.8.3"
  }
 },
 "nbformat": 4,
 "nbformat_minor": 4
}
